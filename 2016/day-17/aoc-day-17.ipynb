{
 "cells": [
  {
   "cell_type": "markdown",
   "metadata": {},
   "source": [
    "# Advent of Code - Day 17: Two Steps Forward\n",
    "\n",
    "You're trying to access a secure vault protected by a 4x4 grid of small rooms connected by doors. You start in the top-left room (marked S), and you can access the vault (marked V) once you reach the bottom-right room:\n",
    "\n",
    "    #########\n",
    "    #S| | | #\n",
    "    #-#-#-#-#\n",
    "    # | | | #\n",
    "    #-#-#-#-#\n",
    "    # | | | #\n",
    "    #-#-#-#-#\n",
    "    # | | |  \n",
    "    ####### V\n",
    "Fixed walls are marked with #, and doors are marked with - or |.\n",
    "\n",
    "The doors in your **current** room are either open or closed (and locked) based on the hexadecimal MD5 hash of a passcode (your puzzle input) followed by a sequence of uppercase characters representing the **path you have taken so far** (U for up, D for down, L for left, and R for right).\n",
    "\n",
    "Only the first four characters of the hash are used; they represent, respectively, the doors up, down, left, and right from your current position. Any `b`, `c`, `d`, `e`, or `f` means that the corresponding door is open; any other character (any number or a) means that the corresponding door is closed and locked.\n",
    "\n",
    "To access the vault, all you need to do is reach the bottom-right room; reaching this room opens the vault and all doors in the maze.\n",
    "\n",
    "For example, suppose the passcode is `hijkl`. Initially, you have taken no steps, and so your path is empty: you simply find the MD5 hash of hijkl alone. The first four characters of this hash are ced9, which indicate that up is open (c), down is open (e), left is open (d), and right is closed and locked (9). Because you start in the top-left corner, there are no \"up\" or \"left\" doors to be open, so your only choice is **down**.\n",
    "\n",
    "Next, having gone only one step (down, or D), you find the hash of hijklD. This produces f2bc, which indicates that you can go back up, left (but that's a wall), or right. Going right means hashing hijkl**DR** to get 5745 - all doors closed and locked. However, going up instead is worthwhile: even though it returns you to the room you started in, your path would then be DU, opening a **different set of doors**.\n",
    "\n",
    "After going DU (and then hashing hijklDU to get 528e), only the right door is open; after going DUR, all doors lock. (Fortunately, your actual passcode is not hijkl).\n",
    "\n",
    "Passcodes actually used by Easter Bunny Vault Security do allow access to the vault if you know the right path. For example:\n",
    "\n",
    "If your passcode were ihgpwlah, the shortest path would be DDRRRD.\n",
    "With kglvqrro, the shortest path would be DDUDRLRRUDRD.\n",
    "With ulqzkmiv, the shortest would be DRURDRUDDLLDLUURRDULRLDUUDDDRR.\n",
    "Given your vault's passcode, **what is the shortest path** (the actual path, not just the length) to reach the vault?\n",
    "\n",
    "Your puzzle input is **mmsxrhfx**"
   ]
  },
  {
   "cell_type": "code",
   "execution_count": 24,
   "metadata": {
    "collapsed": false
   },
   "outputs": [
    {
     "name": "stdout",
     "output_type": "stream",
     "text": [
      "10 RLDUDRDDRR\n"
     ]
    }
   ],
   "source": [
    "from hashlib import md5\n",
    "from collections import deque\n",
    "salt = bytearray(b\"mmsxrhfx\")\n",
    "openvalues = \"bcdef\"\n",
    "\n",
    "def opendoors(s):\n",
    "    x = s.count(\"R\") - s.count(\"L\")\n",
    "    y = s.count(\"D\") - s.count(\"U\")\n",
    "    if y == 3 and x == 3:\n",
    "        return None, True\n",
    "    h = md5(salt + str.encode(s)).hexdigest()[:4]\n",
    "    opendoors = []\n",
    "    if y != 0 and h[0] in openvalues:\n",
    "        opendoors.append(\"U\")\n",
    "    if y != 3 and h[1] in openvalues:\n",
    "        opendoors.append(\"D\")\n",
    "    if x != 0 and h[2] in openvalues:\n",
    "        opendoors.append(\"L\")\n",
    "    if x != 3 and h[3] in openvalues:\n",
    "        opendoors.append(\"R\")\n",
    "    return opendoors, False\n",
    "\n",
    "queue = deque([\"\"])\n",
    "while queue:\n",
    "    path = queue.pop()\n",
    "    doors, foundVault = opendoors(path)\n",
    "    if foundVault:\n",
    "        print(len(path), path)\n",
    "        break\n",
    "    if not doors:\n",
    "        continue\n",
    "    for door in doors:\n",
    "        queue.appendleft(path+door)"
   ]
  },
  {
   "cell_type": "markdown",
   "metadata": {},
   "source": [
    "Your puzzle answer was RLDUDRDDRR."
   ]
  },
  {
   "cell_type": "markdown",
   "metadata": {},
   "source": [
    "# Part Two\n",
    "\n",
    "You're curious how robust this security solution really is, and so you decide to find longer and longer paths which still provide access to the vault. You remember that paths always end the first time they reach the bottom-right room (that is, they can never pass through it, only end in it).\n",
    "\n",
    "For example:\n",
    "\n",
    "If your passcode were ihgpwlah, the longest path would take 370 steps.\n",
    "With kglvqrro, the longest path would be 492 steps long.\n",
    "With ulqzkmiv, the longest path would be 830 steps long.\n",
    "What is the length of the longest path that reaches the vault?"
   ]
  },
  {
   "cell_type": "code",
   "execution_count": 23,
   "metadata": {
    "collapsed": false
   },
   "outputs": [
    {
     "name": "stdout",
     "output_type": "stream",
     "text": [
      "590\n"
     ]
    }
   ],
   "source": [
    "queue = deque([\"\"])\n",
    "maxlen = 0\n",
    "while queue:\n",
    "    path = queue.pop()\n",
    "    doors, foundVault = opendoors(path)\n",
    "    if foundVault:\n",
    "        maxlen = len(path)\n",
    "        continue\n",
    "    if not doors:\n",
    "        continue\n",
    "    for door in doors:\n",
    "        queue.appendleft(path+door)\n",
    "print(maxlen)"
   ]
  }
 ],
 "metadata": {
  "anaconda-cloud": {},
  "kernelspec": {
   "display_name": "Python [default]",
   "language": "python",
   "name": "python3"
  },
  "language_info": {
   "codemirror_mode": {
    "name": "ipython",
    "version": 3
   },
   "file_extension": ".py",
   "mimetype": "text/x-python",
   "name": "python",
   "nbconvert_exporter": "python",
   "pygments_lexer": "ipython3",
   "version": "3.5.2"
  }
 },
 "nbformat": 4,
 "nbformat_minor": 1
}
